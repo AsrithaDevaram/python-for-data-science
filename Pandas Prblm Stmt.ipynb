{
 "cells": [
  {
   "cell_type": "markdown",
   "id": "0fb32124-9371-4a94-b557-708baf0a9e8b",
   "metadata": {},
   "source": [
    "#PROBLEM STATEMENT\n",
    "'''1.Import the data into Python environment as a Pandas DataFrame.\n",
    "2.Check for missing values, if any and drop the corresponding rows.\n",
    "3.Find the district that gets the highest annual rainfall.\n",
    "4.Display the top 5 states that get the highest annual rainfall.\n",
    "5.Drop the columns 'Jan-Feb', 'Mar-May', 'Jun-Sep', 'Oct-Dec'.\n",
    "6.Display the state-wise mean rainfall for all the months using a pivot table.\n",
    "7.Display the count of districts in each state.\n",
    "8.For each state, display the district that gets the highest rainfall in May. Also display the recorded rainfall.'''"
   ]
  },
  {
   "cell_type": "code",
   "execution_count": 25,
   "id": "12a0beb6-9813-4a17-9119-86b3ad70be60",
   "metadata": {},
   "outputs": [],
   "source": [
    "import pandas as pd\n",
    "\n",
    "# Step 1: Import the data into Python as a Pandas DataFrame\n",
    "url = 'rainfall.csv'  # Replace with the actual URL or file path\n",
    "df = pd.read_csv(url)"
   ]
  },
  {
   "cell_type": "code",
   "execution_count": 4,
   "id": "493d26de-1b84-44f3-8dbd-1f2814b9eab7",
   "metadata": {},
   "outputs": [],
   "source": [
    "# Step 2: Check for missing values and drop corresponding rows\n",
    "df.dropna(inplace=True)"
   ]
  },
  {
   "cell_type": "code",
   "execution_count": 6,
   "id": "da1261ac-3aa2-48dc-80c0-23f70a5b8481",
   "metadata": {},
   "outputs": [
    {
     "name": "stdout",
     "output_type": "stream",
     "text": [
      "District with the highest annual rainfall: TAMENGLONG\n"
     ]
    }
   ],
   "source": [
    "# Step 3: Find the district that gets the highest annual rainfall\n",
    "df['Annual'] = df.iloc[:, 2:].sum(axis=1) \n",
    "max_rainfall_district = df.loc[df['Annual'].idxmax(),'DISTRICT']\n",
    "print(f\"District with the highest annual rainfall: {max_rainfall_district}\")\n"
   ]
  },
  {
   "cell_type": "code",
   "execution_count": 8,
   "id": "ecd9ddf3-c614-4875-addc-7c7f837c24e3",
   "metadata": {},
   "outputs": [
    {
     "name": "stdout",
     "output_type": "stream",
     "text": [
      "Top 5 states with the highest annual rainfall:\n",
      "STATE_UT_NAME\n",
      "UTTAR PRADESH        407019.6\n",
      "ASSAM                397606.2\n",
      "MADHYA PRADESH       309693.0\n",
      "ARUNACHAL PRADESH    281028.0\n",
      "BIHAR                273726.6\n",
      "Name: Annual, dtype: float64\n"
     ]
    }
   ],
   "source": [
    "# Step 4: Display the top 5 states that get the highest annual rainfall\n",
    "state_rainfall = df.groupby('STATE_UT_NAME')['Annual'].sum().sort_values(ascending=False)\n",
    "top_5_states = state_rainfall.head(5)\n",
    "print(\"Top 5 states with the highest annual rainfall:\")\n",
    "print(top_5_states)"
   ]
  },
  {
   "cell_type": "code",
   "execution_count": 15,
   "id": "f966cbd7-0c98-4020-b6ff-0dde2de6cb56",
   "metadata": {},
   "outputs": [
    {
     "data": {
      "text/plain": [
       "Index(['STATE_UT_NAME', 'DISTRICT', 'JAN', 'FEB', 'MAR', 'APR', 'MAY', 'JUN',\n",
       "       'JUL', 'AUG', 'SEP', 'OCT', 'NOV', 'DEC', 'ANNUAL', 'Annual'],\n",
       "      dtype='object')"
      ]
     },
     "execution_count": 15,
     "metadata": {},
     "output_type": "execute_result"
    }
   ],
   "source": [
    "df.columns"
   ]
  },
  {
   "cell_type": "code",
   "execution_count": 16,
   "id": "740bda53-d01f-4b2f-89a2-abc8e852ca06",
   "metadata": {},
   "outputs": [],
   "source": [
    "# Step 5: Drop the columns 'Jan-Feb', 'Mar-May', 'Jun-Sep', 'Oct-Dec'\n",
    "columns_to_drop = ['Annual']\n",
    "df.drop(columns=columns_to_drop, inplace=True)"
   ]
  },
  {
   "cell_type": "code",
   "execution_count": 18,
   "id": "91c0fa14-ac9e-412f-afa6-202930cbc016",
   "metadata": {},
   "outputs": [
    {
     "name": "stdout",
     "output_type": "stream",
     "text": [
      "State-wise mean rainfall for all the months:\n",
      "                                    APR         AUG         DEC        FEB  \\\n",
      "STATE_UT_NAME                                                                \n",
      "ANDAMAN And NICOBAR ISLANDS   86.966667  385.300000  159.733333  33.266667   \n",
      "ANDHRA PRADESH                19.873913  179.426087   15.565217   7.352174   \n",
      "ARUNACHAL PRADESH            275.162500  378.600000   35.956250  93.293750   \n",
      "ASSAM                        181.266667  377.370370   11.440741  31.714815   \n",
      "BIHAR                         16.865789  289.481579    5.786842   9.278947   \n",
      "CHANDIGARH                    14.800000  287.500000   23.400000  38.900000   \n",
      "CHATISGARH                    13.116667  375.338889    5.811111  10.472222   \n",
      "DADAR NAGAR HAVELI             0.000000  655.900000    0.000000   0.300000   \n",
      "DAMAN AND DUI                  0.100000  394.600000    0.450000   0.500000   \n",
      "DELHI                          8.900000  245.500000    8.600000  16.300000   \n",
      "GOA                            7.800000  683.800000   10.200000   0.050000   \n",
      "GUJARAT                        0.507692  257.630769    1.592308   0.392308   \n",
      "HARYANA                        7.619048  190.909524    7.914286  16.457143   \n",
      "HIMACHAL                      47.683333  322.325000   38.225000  80.450000   \n",
      "JAMMU AND KASHMIR             82.268182  167.918182   46.395455  91.645455   \n",
      "JHARKHAND                     18.662500  310.316667    6.704167  16.320833   \n",
      "KARNATAKA                     36.773333  209.256667   11.170000   2.696667   \n",
      "KERALA                       109.021429  417.950000   38.242857  16.200000   \n",
      "LAKSHADWEEP                   48.900000  217.500000   58.800000  14.700000   \n",
      "MADHYA PRADESH                 3.270000  331.048000    8.790000   9.158000   \n",
      "MAHARASHTRA                    6.974286  314.585714    7.417143   3.474286   \n",
      "MANIPUR                      150.766667  451.800000   11.788889  55.122222   \n",
      "MEGHALAYA                    211.228571  584.371429   11.042857  21.685714   \n",
      "MIZORAM                      152.600000  440.588889   15.288889  29.944444   \n",
      "NAGALAND                     134.227273  350.872727   10.354545  27.672727   \n",
      "ORISSA                        36.653333  363.346667    5.136667  22.370000   \n",
      "PONDICHERRY                   12.275000  116.425000  227.350000  25.425000   \n",
      "PUNJAB                        12.160000  172.415000   13.905000  24.480000   \n",
      "RAJASTHAN                      3.303030  194.554545    3.021212   4.721212   \n",
      "SIKKIM                       206.900000  434.600000   20.900000  77.300000   \n",
      "TAMIL NADU                    42.596875   91.571875   96.487500  14.021875   \n",
      "TRIPURA                      220.750000  356.475000   11.125000  33.650000   \n",
      "UTTAR PRADESH                  5.318310  291.232394    6.870423  13.157746   \n",
      "UTTARANCHAL                   29.815385  426.784615   20.830769  49.592308   \n",
      "WEST BENGAL                   56.647368  361.573684    7.363158  19.084211   \n",
      "\n",
      "                                   JAN          JUL         JUN         MAR  \\\n",
      "STATE_UT_NAME                                                                 \n",
      "ANDAMAN And NICOBAR ISLANDS  61.233333   390.566667  418.666667   30.800000   \n",
      "ANDHRA PRADESH                6.321739   185.365217  114.369565   10.095652   \n",
      "ARUNACHAL PRADESH            53.687500   547.581250  491.381250  165.018750   \n",
      "ASSAM                        15.733333   494.844444  465.185185   77.762963   \n",
      "BIHAR                        13.134211   340.836842  168.781579    9.873684   \n",
      "CHANDIGARH                   44.300000   282.400000  120.000000   33.200000   \n",
      "CHATISGARH                   10.377778   375.405556  180.583333   12.977778   \n",
      "DADAR NAGAR HAVELI            0.400000   884.500000  385.100000    0.000000   \n",
      "DAMAN AND DUI                 0.550000   583.100000  276.500000    0.200000   \n",
      "DELHI                        16.400000   220.700000   59.800000   15.300000   \n",
      "GOA                           0.550000  1108.100000  908.100000    0.550000   \n",
      "GUJARAT                       0.784615   333.838462  139.246154    1.142308   \n",
      "HARYANA                      19.485714   180.361905   51.009524   13.738095   \n",
      "HIMACHAL                     81.925000   343.825000  108.683333   87.633333   \n",
      "JAMMU AND KASHMIR            77.977273   172.090909   53.604545  119.986364   \n",
      "JHARKHAND                    15.837500   333.854167  198.775000   16.516667   \n",
      "KARNATAKA                     2.026667   280.700000  204.880000    7.163333   \n",
      "KERALA                        9.542857   724.328571  658.707143   31.071429   \n",
      "LAKSHADWEEP                  20.800000   287.700000  330.200000   11.800000   \n",
      "MADHYA PRADESH               12.892000   311.088000  114.686000    7.486000   \n",
      "MAHARASHTRA                   4.791429   388.894286  240.980000    5.997143   \n",
      "MANIPUR                      22.600000   498.055556  487.088889   82.411111   \n",
      "MEGHALAYA                    14.900000   857.742857  757.228571   74.757143   \n",
      "MIZORAM                      11.566667   452.311111  429.833333   96.255556   \n",
      "NAGALAND                     18.481818   395.036364  340.318182   63.018182   \n",
      "ORISSA                       10.810000   332.316667  212.516667   27.453333   \n",
      "PONDICHERRY                  26.750000    78.025000   47.675000   16.725000   \n",
      "PUNJAB                       25.965000   190.610000   46.325000   25.900000   \n",
      "RAJASTHAN                     5.348485   195.278788   54.096970    3.815152   \n",
      "SIKKIM                       47.550000   499.200000  483.800000  130.600000   \n",
      "TAMIL NADU                   18.906250    72.606250   50.321875   18.068750   \n",
      "TRIPURA                      11.225000   414.975000  465.425000   93.625000   \n",
      "UTTAR PRADESH                17.183099   280.067606   90.770423   10.107042   \n",
      "UTTARANCHAL                  49.892308   432.792308  165.715385   51.669231   \n",
      "WEST BENGAL                  15.031579   412.989474  308.531579   27.973684   \n",
      "\n",
      "                                    MAY         NOV         OCT         SEP  \n",
      "STATE_UT_NAME                                                                \n",
      "ANDAMAN And NICOBAR ISLANDS  358.833333  263.200000  301.100000  421.733333  \n",
      "ANDHRA PRADESH                48.765217   58.965217  138.600000  160.373913  \n",
      "ARUNACHAL PRADESH            300.262500   43.187500  176.768750  366.475000  \n",
      "ASSAM                        333.870370   24.922222  136.448148  303.800000  \n",
      "BIHAR                         51.673684    6.715789   64.747368  223.378947  \n",
      "CHANDIGARH                    30.100000    9.900000   31.800000  154.300000  \n",
      "CHATISGARH                    17.483333    8.494444   61.844444  214.444444  \n",
      "DADAR NAGAR HAVELI             7.400000   10.500000   38.600000  391.400000  \n",
      "DAMAN AND DUI                  4.150000   12.400000   35.550000  227.600000  \n",
      "DELHI                         19.300000    5.600000   20.500000  110.200000  \n",
      "GOA                           87.750000   35.000000  155.700000  280.900000  \n",
      "GUJARAT                        4.803846   10.826923   25.103846  148.473077  \n",
      "HARYANA                       14.642857    5.266667   18.428571   88.723810  \n",
      "HIMACHAL                      54.358333   16.908333   39.308333  150.266667  \n",
      "JAMMU AND KASHMIR             65.136364   27.159091   34.181818   78.254545  \n",
      "JHARKHAND                     45.875000   10.212500   79.404167  250.958333  \n",
      "KARNATAKA                     88.166667   44.350000  143.356667  164.076667  \n",
      "KERALA                       244.728571  151.535714  290.907143  245.157143  \n",
      "LAKSHADWEEP                  171.700000  117.700000  157.100000  163.100000  \n",
      "MADHYA PRADESH                 7.006000   10.042000   35.270000  181.574000  \n",
      "MAHARASHTRA                   19.925714   18.588571   75.648571  191.311429  \n",
      "MANIPUR                      213.377778   56.000000  189.222222  278.400000  \n",
      "MEGHALAYA                    430.042857   39.571429  225.571429  454.700000  \n",
      "MIZORAM                      321.322222   64.633333  229.822222  372.155556  \n",
      "NAGALAND                     213.381818   38.554545  121.154545  227.627273  \n",
      "ORISSA                        70.723333   30.400000  116.056667  238.336667  \n",
      "PONDICHERRY                   40.825000  395.150000  271.950000  119.900000  \n",
      "PUNJAB                        16.165000    6.085000   21.700000   92.835000  \n",
      "RAJASTHAN                     10.627273    6.254545   14.430303   86.145455  \n",
      "SIKKIM                       323.550000   30.950000  209.850000  373.150000  \n",
      "TAMIL NADU                    67.531250  184.625000  186.928125  116.340625  \n",
      "TRIPURA                      391.575000   43.300000  176.650000  260.350000  \n",
      "UTTAR PRADESH                 15.561972    4.576056   45.525352  175.074648  \n",
      "UTTARANCHAL                   58.392308    9.238462   58.838462  204.476923  \n",
      "WEST BENGAL                  139.489474   19.389474  124.373684  317.978947  \n"
     ]
    }
   ],
   "source": [
    "# Step 6: Display the state-wise mean rainfall for all the months using a pivot table\n",
    "# Adjust the column names if necessary\n",
    "monthly_columns = [col for col in df.columns if col not in ['DISTRICT', 'STATE_UT_NAME', 'ANNUAL']]\n",
    "pivot_table = pd.pivot_table(df, index='STATE_UT_NAME', values=monthly_columns, aggfunc='mean')\n",
    "print(\"State-wise mean rainfall for all the months:\")\n",
    "print(pivot_table)"
   ]
  },
  {
   "cell_type": "code",
   "execution_count": 20,
   "id": "eeb4a189-fcea-4c65-856d-20ccbda490f8",
   "metadata": {},
   "outputs": [
    {
     "name": "stdout",
     "output_type": "stream",
     "text": [
      "Count of districts in each state:\n",
      "STATE_UT_NAME\n",
      "UTTAR PRADESH                  71\n",
      "MADHYA PRADESH                 50\n",
      "BIHAR                          38\n",
      "MAHARASHTRA                    35\n",
      "RAJASTHAN                      33\n",
      "TAMIL NADU                     32\n",
      "KARNATAKA                      30\n",
      "ORISSA                         30\n",
      "ASSAM                          27\n",
      "GUJARAT                        26\n",
      "JHARKHAND                      24\n",
      "ANDHRA PRADESH                 23\n",
      "JAMMU AND KASHMIR              22\n",
      "HARYANA                        21\n",
      "PUNJAB                         20\n",
      "WEST BENGAL                    19\n",
      "CHATISGARH                     18\n",
      "ARUNACHAL PRADESH              16\n",
      "KERALA                         14\n",
      "UTTARANCHAL                    13\n",
      "HIMACHAL                       12\n",
      "NAGALAND                       11\n",
      "MIZORAM                         9\n",
      "MANIPUR                         9\n",
      "DELHI                           9\n",
      "MEGHALAYA                       7\n",
      "SIKKIM                          4\n",
      "TRIPURA                         4\n",
      "PONDICHERRY                     4\n",
      "ANDAMAN And NICOBAR ISLANDS     3\n",
      "GOA                             2\n",
      "DAMAN AND DUI                   2\n",
      "DADAR NAGAR HAVELI              1\n",
      "CHANDIGARH                      1\n",
      "LAKSHADWEEP                     1\n",
      "Name: count, dtype: int64\n"
     ]
    }
   ],
   "source": [
    "# Step 7: Display the count of districts in each state\n",
    "district_count = df['STATE_UT_NAME'].value_counts()\n",
    "print(\"Count of districts in each state:\")\n",
    "print(district_count)"
   ]
  },
  {
   "cell_type": "code",
   "execution_count": 21,
   "id": "c2eb4cd4-85ab-4e3c-bb84-2ec4c9d2a32b",
   "metadata": {},
   "outputs": [
    {
     "name": "stdout",
     "output_type": "stream",
     "text": [
      "District with the highest rainfall in May for each state:\n",
      "                   STATE_UT_NAME       DISTRICT    MAY\n",
      "1    ANDAMAN And NICOBAR ISLANDS  SOUTH ANDAMAN  374.4\n",
      "544               ANDHRA PRADESH  VISAKHAPATNAM   96.6\n",
      "10             ARUNACHAL PRADESH     PAPUM PARE  453.0\n",
      "31                         ASSAM      KARIMGANJ  604.0\n",
      "194                        BIHAR     KISHANGANJ  155.7\n",
      "306                   CHANDIGARH     CHANDIGARH   30.1\n",
      "519                   CHATISGARH         BASTAR   38.6\n",
      "479           DADAR NAGAR HAVELI            DNH    7.4\n",
      "480                DAMAN AND DUI          DAMAN    7.4\n",
      "307                        DELHI      NEW DELHI   19.3\n",
      "488                          GOA      NORTH GOA   94.3\n",
      "458                      GUJARAT          DANGS   12.5\n",
      "303                      HARYANA      PANCHKULA   27.9\n",
      "341                     HIMACHAL  LAHUL & SPITI   91.7\n",
      "349            JAMMU AND KASHMIR      BARAMULLA  111.4\n",
      "154                    JHARKHAND          PAKUR   86.1\n",
      "598                    KARNATAKA          UDUPI  193.8\n",
      "628                       KERALA      ERNAKULAM  300.4\n",
      "640                  LAKSHADWEEP    LAKSHADWEEP  171.7\n",
      "451               MADHYA PRADESH  ANUPPUR(SHAHD   19.9\n",
      "493                  MAHARASHTRA       KOLHAPUR   60.2\n",
      "55                       MANIPUR     TAMENGLONG  539.9\n",
      "46                     MEGHALAYA  EAST KHASI HI  733.7\n",
      "62                       MIZORAM         AIZAWL  351.4\n",
      "75                      NAGALAND          WOKHA  325.6\n",
      "135                       ORISSA       GAJAPATI  136.8\n",
      "592                  PONDICHERRY    PONDICHERRY   43.6\n",
      "325                       PUNJAB       RUPNAGAR   25.6\n",
      "390                    RAJASTHAN      JHUNJHUNU   20.7\n",
      "92                        SIKKIM   NORTH SIKKIM  355.4\n",
      "563                   TAMIL NADU    KANYAKUMARI  141.5\n",
      "82                       TRIPURA  NORTH TRIPURA  440.1\n",
      "234                UTTAR PRADESH      BALRAMPUR   38.6\n",
      "279                  UTTARANCHAL     UTTARKASHI  102.1\n",
      "86                   WEST BENGAL    COOCH BEHAR  345.4\n"
     ]
    }
   ],
   "source": [
    "# Step 8: For each state, display the district that gets the highest rainfall in May and the recorded rainfall\n",
    "highest_may_rainfall = df.loc[df.groupby('STATE_UT_NAME')['MAY'].idxmax()][['STATE_UT_NAME', 'DISTRICT', 'MAY']]\n",
    "print(\"District with the highest rainfall in May for each state:\")\n",
    "print(highest_may_rainfall)"
   ]
  }
 ],
 "metadata": {
  "kernelspec": {
   "display_name": "Python 3 (ipykernel)",
   "language": "python",
   "name": "python3"
  },
  "language_info": {
   "codemirror_mode": {
    "name": "ipython",
    "version": 3
   },
   "file_extension": ".py",
   "mimetype": "text/x-python",
   "name": "python",
   "nbconvert_exporter": "python",
   "pygments_lexer": "ipython3",
   "version": "3.11.7"
  }
 },
 "nbformat": 4,
 "nbformat_minor": 5
}
